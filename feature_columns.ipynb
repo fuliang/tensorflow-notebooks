{
 "cells": [
  {
   "cell_type": "code",
   "execution_count": 177,
   "metadata": {},
   "outputs": [],
   "source": [
    "import numpy as np\n",
    "import pandas as pd\n",
    "\n",
    "import tensorflow as tf\n",
    "from tensorflow import feature_column\n",
    "from tensorflow.keras import layers\n",
    "from sklearn.model_selection import train_test_split"
   ]
  },
  {
   "cell_type": "code",
   "execution_count": 178,
   "metadata": {},
   "outputs": [
    {
     "data": {
      "text/html": [
       "<div>\n",
       "<style scoped>\n",
       "    .dataframe tbody tr th:only-of-type {\n",
       "        vertical-align: middle;\n",
       "    }\n",
       "\n",
       "    .dataframe tbody tr th {\n",
       "        vertical-align: top;\n",
       "    }\n",
       "\n",
       "    .dataframe thead th {\n",
       "        text-align: right;\n",
       "    }\n",
       "</style>\n",
       "<table border=\"1\" class=\"dataframe\">\n",
       "  <thead>\n",
       "    <tr style=\"text-align: right;\">\n",
       "      <th></th>\n",
       "      <th>age</th>\n",
       "      <th>sex</th>\n",
       "      <th>cp</th>\n",
       "      <th>trestbps</th>\n",
       "      <th>chol</th>\n",
       "      <th>fbs</th>\n",
       "      <th>restecg</th>\n",
       "      <th>thalach</th>\n",
       "      <th>exang</th>\n",
       "      <th>oldpeak</th>\n",
       "      <th>slope</th>\n",
       "      <th>ca</th>\n",
       "      <th>thal</th>\n",
       "      <th>target</th>\n",
       "    </tr>\n",
       "  </thead>\n",
       "  <tbody>\n",
       "    <tr>\n",
       "      <th>0</th>\n",
       "      <td>63</td>\n",
       "      <td>1</td>\n",
       "      <td>typical</td>\n",
       "      <td>145</td>\n",
       "      <td>233</td>\n",
       "      <td>1</td>\n",
       "      <td>2</td>\n",
       "      <td>150</td>\n",
       "      <td>0</td>\n",
       "      <td>2.3</td>\n",
       "      <td>3</td>\n",
       "      <td>0.0</td>\n",
       "      <td>fixed</td>\n",
       "      <td>0</td>\n",
       "    </tr>\n",
       "    <tr>\n",
       "      <th>1</th>\n",
       "      <td>67</td>\n",
       "      <td>1</td>\n",
       "      <td>asymptomatic</td>\n",
       "      <td>160</td>\n",
       "      <td>286</td>\n",
       "      <td>0</td>\n",
       "      <td>2</td>\n",
       "      <td>108</td>\n",
       "      <td>1</td>\n",
       "      <td>1.5</td>\n",
       "      <td>2</td>\n",
       "      <td>3.0</td>\n",
       "      <td>normal</td>\n",
       "      <td>1</td>\n",
       "    </tr>\n",
       "    <tr>\n",
       "      <th>2</th>\n",
       "      <td>67</td>\n",
       "      <td>1</td>\n",
       "      <td>asymptomatic</td>\n",
       "      <td>120</td>\n",
       "      <td>229</td>\n",
       "      <td>0</td>\n",
       "      <td>2</td>\n",
       "      <td>129</td>\n",
       "      <td>1</td>\n",
       "      <td>2.6</td>\n",
       "      <td>2</td>\n",
       "      <td>2.0</td>\n",
       "      <td>reversable</td>\n",
       "      <td>1</td>\n",
       "    </tr>\n",
       "    <tr>\n",
       "      <th>3</th>\n",
       "      <td>37</td>\n",
       "      <td>1</td>\n",
       "      <td>nonanginal</td>\n",
       "      <td>130</td>\n",
       "      <td>250</td>\n",
       "      <td>0</td>\n",
       "      <td>0</td>\n",
       "      <td>187</td>\n",
       "      <td>0</td>\n",
       "      <td>3.5</td>\n",
       "      <td>3</td>\n",
       "      <td>0.0</td>\n",
       "      <td>normal</td>\n",
       "      <td>0</td>\n",
       "    </tr>\n",
       "    <tr>\n",
       "      <th>4</th>\n",
       "      <td>41</td>\n",
       "      <td>0</td>\n",
       "      <td>nontypical</td>\n",
       "      <td>130</td>\n",
       "      <td>204</td>\n",
       "      <td>0</td>\n",
       "      <td>2</td>\n",
       "      <td>172</td>\n",
       "      <td>0</td>\n",
       "      <td>1.4</td>\n",
       "      <td>1</td>\n",
       "      <td>0.0</td>\n",
       "      <td>normal</td>\n",
       "      <td>0</td>\n",
       "    </tr>\n",
       "  </tbody>\n",
       "</table>\n",
       "</div>"
      ],
      "text/plain": [
       "   age  sex            cp  trestbps  chol  fbs  restecg  thalach  exang  \\\n",
       "0   63    1       typical       145   233    1        2      150      0   \n",
       "1   67    1  asymptomatic       160   286    0        2      108      1   \n",
       "2   67    1  asymptomatic       120   229    0        2      129      1   \n",
       "3   37    1    nonanginal       130   250    0        0      187      0   \n",
       "4   41    0    nontypical       130   204    0        2      172      0   \n",
       "\n",
       "   oldpeak  slope   ca        thal  target  \n",
       "0      2.3      3  0.0       fixed       0  \n",
       "1      1.5      2  3.0      normal       1  \n",
       "2      2.6      2  2.0  reversable       1  \n",
       "3      3.5      3  0.0      normal       0  \n",
       "4      1.4      1  0.0      normal       0  "
      ]
     },
     "execution_count": 178,
     "metadata": {},
     "output_type": "execute_result"
    }
   ],
   "source": [
    "df = pd.read_csv(\"data/heart2.csv\")\n",
    "df.head()"
   ]
  },
  {
   "cell_type": "code",
   "execution_count": 179,
   "metadata": {},
   "outputs": [
    {
     "data": {
      "text/plain": [
       "age           int64\n",
       "sex           int64\n",
       "cp           object\n",
       "trestbps      int64\n",
       "chol          int64\n",
       "fbs           int64\n",
       "restecg       int64\n",
       "thalach       int64\n",
       "exang         int64\n",
       "oldpeak     float64\n",
       "slope         int64\n",
       "ca          float64\n",
       "thal         object\n",
       "target        int64\n",
       "dtype: object"
      ]
     },
     "execution_count": 179,
     "metadata": {},
     "output_type": "execute_result"
    }
   ],
   "source": [
    "df.dtypes"
   ]
  },
  {
   "cell_type": "code",
   "execution_count": 180,
   "metadata": {},
   "outputs": [],
   "source": [
    "def cat_codes(df, col_name):\n",
    "    df[col_name] = pd.Categorical(df[col_name])\n",
    "    df[col_name] = df[col_name].cat.codes\n",
    "\n",
    "cat_colums = [\"cp\"]\n",
    "for col in cat_colums:\n",
    "    cat_codes(df, col)\n",
    "\n",
    "df['thal'] = df['thal'].astype('str')"
   ]
  },
  {
   "cell_type": "code",
   "execution_count": 181,
   "metadata": {},
   "outputs": [
    {
     "data": {
      "text/html": [
       "<div>\n",
       "<style scoped>\n",
       "    .dataframe tbody tr th:only-of-type {\n",
       "        vertical-align: middle;\n",
       "    }\n",
       "\n",
       "    .dataframe tbody tr th {\n",
       "        vertical-align: top;\n",
       "    }\n",
       "\n",
       "    .dataframe thead th {\n",
       "        text-align: right;\n",
       "    }\n",
       "</style>\n",
       "<table border=\"1\" class=\"dataframe\">\n",
       "  <thead>\n",
       "    <tr style=\"text-align: right;\">\n",
       "      <th></th>\n",
       "      <th>age</th>\n",
       "      <th>sex</th>\n",
       "      <th>cp</th>\n",
       "      <th>trestbps</th>\n",
       "      <th>chol</th>\n",
       "      <th>fbs</th>\n",
       "      <th>restecg</th>\n",
       "      <th>thalach</th>\n",
       "      <th>exang</th>\n",
       "      <th>oldpeak</th>\n",
       "      <th>slope</th>\n",
       "      <th>ca</th>\n",
       "      <th>thal</th>\n",
       "      <th>target</th>\n",
       "    </tr>\n",
       "  </thead>\n",
       "  <tbody>\n",
       "    <tr>\n",
       "      <th>0</th>\n",
       "      <td>63</td>\n",
       "      <td>1</td>\n",
       "      <td>3</td>\n",
       "      <td>145</td>\n",
       "      <td>233</td>\n",
       "      <td>1</td>\n",
       "      <td>2</td>\n",
       "      <td>150</td>\n",
       "      <td>0</td>\n",
       "      <td>2.3</td>\n",
       "      <td>3</td>\n",
       "      <td>0.0</td>\n",
       "      <td>fixed</td>\n",
       "      <td>0</td>\n",
       "    </tr>\n",
       "    <tr>\n",
       "      <th>1</th>\n",
       "      <td>67</td>\n",
       "      <td>1</td>\n",
       "      <td>0</td>\n",
       "      <td>160</td>\n",
       "      <td>286</td>\n",
       "      <td>0</td>\n",
       "      <td>2</td>\n",
       "      <td>108</td>\n",
       "      <td>1</td>\n",
       "      <td>1.5</td>\n",
       "      <td>2</td>\n",
       "      <td>3.0</td>\n",
       "      <td>normal</td>\n",
       "      <td>1</td>\n",
       "    </tr>\n",
       "    <tr>\n",
       "      <th>2</th>\n",
       "      <td>67</td>\n",
       "      <td>1</td>\n",
       "      <td>0</td>\n",
       "      <td>120</td>\n",
       "      <td>229</td>\n",
       "      <td>0</td>\n",
       "      <td>2</td>\n",
       "      <td>129</td>\n",
       "      <td>1</td>\n",
       "      <td>2.6</td>\n",
       "      <td>2</td>\n",
       "      <td>2.0</td>\n",
       "      <td>reversable</td>\n",
       "      <td>1</td>\n",
       "    </tr>\n",
       "    <tr>\n",
       "      <th>3</th>\n",
       "      <td>37</td>\n",
       "      <td>1</td>\n",
       "      <td>1</td>\n",
       "      <td>130</td>\n",
       "      <td>250</td>\n",
       "      <td>0</td>\n",
       "      <td>0</td>\n",
       "      <td>187</td>\n",
       "      <td>0</td>\n",
       "      <td>3.5</td>\n",
       "      <td>3</td>\n",
       "      <td>0.0</td>\n",
       "      <td>normal</td>\n",
       "      <td>0</td>\n",
       "    </tr>\n",
       "    <tr>\n",
       "      <th>4</th>\n",
       "      <td>41</td>\n",
       "      <td>0</td>\n",
       "      <td>2</td>\n",
       "      <td>130</td>\n",
       "      <td>204</td>\n",
       "      <td>0</td>\n",
       "      <td>2</td>\n",
       "      <td>172</td>\n",
       "      <td>0</td>\n",
       "      <td>1.4</td>\n",
       "      <td>1</td>\n",
       "      <td>0.0</td>\n",
       "      <td>normal</td>\n",
       "      <td>0</td>\n",
       "    </tr>\n",
       "  </tbody>\n",
       "</table>\n",
       "</div>"
      ],
      "text/plain": [
       "   age  sex  cp  trestbps  chol  fbs  restecg  thalach  exang  oldpeak  slope  \\\n",
       "0   63    1   3       145   233    1        2      150      0      2.3      3   \n",
       "1   67    1   0       160   286    0        2      108      1      1.5      2   \n",
       "2   67    1   0       120   229    0        2      129      1      2.6      2   \n",
       "3   37    1   1       130   250    0        0      187      0      3.5      3   \n",
       "4   41    0   2       130   204    0        2      172      0      1.4      1   \n",
       "\n",
       "    ca        thal  target  \n",
       "0  0.0       fixed       0  \n",
       "1  3.0      normal       1  \n",
       "2  2.0  reversable       1  \n",
       "3  0.0      normal       0  \n",
       "4  0.0      normal       0  "
      ]
     },
     "execution_count": 181,
     "metadata": {},
     "output_type": "execute_result"
    }
   ],
   "source": [
    "df.head()"
   ]
  },
  {
   "cell_type": "code",
   "execution_count": 182,
   "metadata": {},
   "outputs": [
    {
     "name": "stdout",
     "output_type": "stream",
     "text": [
      "193 train examples\n",
      "49 validation examples\n",
      "61 test examples\n"
     ]
    }
   ],
   "source": [
    "train, test = train_test_split(df, test_size=0.2)\n",
    "train, val = train_test_split(train, test_size=0.2)\n",
    "print(len(train), 'train examples')\n",
    "print(len(val), 'validation examples')\n",
    "print(len(test), 'test examples')"
   ]
  },
  {
   "cell_type": "code",
   "execution_count": 183,
   "metadata": {},
   "outputs": [],
   "source": [
    "def df_to_dataset(df, shuffle=True, batch_size=32):\n",
    "    df = df.copy()\n",
    "    labels = df.pop('target')\n",
    "    ds = tf.data.Dataset.from_tensor_slices((dict(df), labels))\n",
    "    if shuffle:\n",
    "        ds = ds.shuffle(buffer_size=len(df))\n",
    "    ds = ds.batch(batch_size)\n",
    "    return ds"
   ]
  },
  {
   "cell_type": "code",
   "execution_count": 184,
   "metadata": {},
   "outputs": [],
   "source": [
    "batch_size = 5\n",
    "train_ds = df_to_dataset(train, batch_size=batch_size)\n",
    "val_ds = df_to_dataset(val, shuffle=False, batch_size=batch_size)\n",
    "test_ds = df_to_dataset(test, shuffle=False, batch_size=batch_size)"
   ]
  },
  {
   "cell_type": "code",
   "execution_count": 185,
   "metadata": {},
   "outputs": [
    {
     "name": "stdout",
     "output_type": "stream",
     "text": [
      "Every feature: ['age', 'sex', 'cp', 'trestbps', 'chol', 'fbs', 'restecg', 'thalach', 'exang', 'oldpeak', 'slope', 'ca', 'thal']\n",
      "A batch of ages: tf.Tensor([41 65 35 51 61], shape=(5,), dtype=int32)\n",
      "A batch of targets: tf.Tensor([1 0 1 0 1], shape=(5,), dtype=int32)\n"
     ]
    }
   ],
   "source": [
    "for feature_batch, label_batch in train_ds.take(1):\n",
    "    print(\"Every feature:\", list(feature_batch.keys()))\n",
    "    print(\"A batch of ages:\", feature_batch['age'])\n",
    "    print(\"A batch of targets:\", label_batch)"
   ]
  },
  {
   "cell_type": "code",
   "execution_count": 186,
   "metadata": {},
   "outputs": [],
   "source": [
    "example_batch = next(iter(train_ds))[0]"
   ]
  },
  {
   "cell_type": "code",
   "execution_count": 187,
   "metadata": {},
   "outputs": [],
   "source": [
    "def demo(feature_column):\n",
    "    feature_layer = layers.DenseFeatures(feature_column)\n",
    "    print(feature_layer(example_batch).numpy())"
   ]
  },
  {
   "cell_type": "code",
   "execution_count": 188,
   "metadata": {},
   "outputs": [
    {
     "name": "stdout",
     "output_type": "stream",
     "text": [
      "[[61.]\n",
      " [56.]\n",
      " [61.]\n",
      " [51.]\n",
      " [61.]]\n"
     ]
    }
   ],
   "source": [
    "age = feature_column.numeric_column(\"age\")\n",
    "demo(age)"
   ]
  },
  {
   "cell_type": "code",
   "execution_count": 189,
   "metadata": {},
   "outputs": [
    {
     "name": "stdout",
     "output_type": "stream",
     "text": [
      "[[0. 0. 0. 0. 0. 0. 0. 0. 0. 1. 0.]\n",
      " [0. 0. 0. 0. 0. 0. 0. 0. 1. 0. 0.]\n",
      " [0. 0. 0. 0. 0. 0. 0. 0. 0. 1. 0.]\n",
      " [0. 0. 0. 0. 0. 0. 0. 1. 0. 0. 0.]\n",
      " [0. 0. 0. 0. 0. 0. 0. 0. 0. 1. 0.]]\n"
     ]
    }
   ],
   "source": [
    "age_buckets = feature_column.bucketized_column(age, boundaries=[18, 25, 30, 35, 40, 45, 50, 55, 60, 65])\n",
    "demo(age_buckets)"
   ]
  },
  {
   "cell_type": "code",
   "execution_count": 190,
   "metadata": {},
   "outputs": [
    {
     "name": "stdout",
     "output_type": "stream",
     "text": [
      "[[0. 0. 0.]\n",
      " [0. 1. 0.]\n",
      " [0. 1. 0.]\n",
      " [0. 1. 0.]\n",
      " [0. 1. 0.]]\n"
     ]
    }
   ],
   "source": [
    "thal = feature_column.categorical_column_with_vocabulary_list(\n",
    "      'thal', ['fixed', 'normal', 'reversible'])\n",
    "\n",
    "thal_one_hot = feature_column.indicator_column(thal)\n",
    "demo(thal_one_hot)"
   ]
  },
  {
   "cell_type": "code",
   "execution_count": 191,
   "metadata": {},
   "outputs": [
    {
     "name": "stdout",
     "output_type": "stream",
     "text": [
      "[[ 0.          0.          0.          0.          0.          0.\n",
      "   0.          0.        ]\n",
      " [ 0.00800326 -0.00177795  0.12067082  0.5695621  -0.11213961  0.06052765\n",
      "   0.10184006 -0.5915288 ]\n",
      " [ 0.00800326 -0.00177795  0.12067082  0.5695621  -0.11213961  0.06052765\n",
      "   0.10184006 -0.5915288 ]\n",
      " [ 0.00800326 -0.00177795  0.12067082  0.5695621  -0.11213961  0.06052765\n",
      "   0.10184006 -0.5915288 ]\n",
      " [ 0.00800326 -0.00177795  0.12067082  0.5695621  -0.11213961  0.06052765\n",
      "   0.10184006 -0.5915288 ]]\n"
     ]
    }
   ],
   "source": [
    "tha1_embedding = feature_column.embedding_column(thal, dimension=8)\n",
    "demo(tha1_embedding)"
   ]
  },
  {
   "cell_type": "code",
   "execution_count": 192,
   "metadata": {},
   "outputs": [
    {
     "name": "stdout",
     "output_type": "stream",
     "text": [
      "[[0. 0. 0. ... 0. 0. 0.]\n",
      " [0. 0. 0. ... 0. 0. 0.]\n",
      " [0. 0. 0. ... 0. 0. 0.]\n",
      " [0. 0. 0. ... 0. 0. 0.]\n",
      " [0. 0. 0. ... 0. 0. 0.]]\n"
     ]
    }
   ],
   "source": [
    "thal_hashed = feature_column.categorical_column_with_hash_bucket('thal', hash_bucket_size=1000)\n",
    "demo(feature_column.indicator_column(thal_hashed))"
   ]
  },
  {
   "cell_type": "code",
   "execution_count": 193,
   "metadata": {},
   "outputs": [
    {
     "name": "stdout",
     "output_type": "stream",
     "text": [
      "[[0. 0. 0. ... 0. 0. 0.]\n",
      " [0. 0. 0. ... 0. 0. 0.]\n",
      " [0. 0. 0. ... 0. 0. 0.]\n",
      " [0. 0. 0. ... 0. 0. 0.]\n",
      " [0. 0. 0. ... 0. 0. 0.]]\n"
     ]
    }
   ],
   "source": [
    "cross_feature = feature_column.crossed_column([age_buckets, thal], hash_bucket_size=1000)\n",
    "demo(feature_column.indicator_column(cross_feature))"
   ]
  },
  {
   "cell_type": "code",
   "execution_count": 199,
   "metadata": {},
   "outputs": [],
   "source": [
    "feas = ['age', 'trestbps', 'chol', 'thalach', 'oldpeak', 'slope', 'ca']\n",
    "def get_normalization_parameters(traindf, features):\n",
    "    \"\"\"Get the normalization parameters (E.g., mean, std) for traindf for \n",
    "    features. We will use these parameters for training, eval, and serving.\"\"\"\n",
    "\n",
    "    def _z_score_params(column):\n",
    "        mean = traindf[column].mean()\n",
    "        std = traindf[column].std()\n",
    "        return {'mean': mean, 'std': std}\n",
    "\n",
    "    normalization_parameters = {}\n",
    "    for column in features:\n",
    "        normalization_parameters[column] = _z_score_params(column)\n",
    "    return normalization_parameters\n",
    "\n",
    "normalization_parameters = get_normalization_parameters(train, feas)\n",
    "\n",
    "def _numeric_column_normalized(column_name, normalizer_fn):\n",
    "    return tf.feature_column.numeric_column(column_name, normalizer_fn=normalizer_fn)\n",
    "\n",
    "def _make_zscaler(mean, std):\n",
    "    def zscaler(col):\n",
    "        return (col - mean)/std\n",
    "    return zscaler\n",
    "\n",
    "# Define your feature columns\n",
    "def create_feature_cols(features, use_normalization):\n",
    "    \"\"\"Create feature columns using tf.feature_column. \n",
    "    \n",
    "    This function will get executed during training, evaluation, and serving.\"\"\"\n",
    "    def normalize_column(col):  # Use mean, std defined below.\n",
    "        return (col - mean)/std\n",
    "    normalized_feature_columns = []\n",
    "    for column_name in features:\n",
    "        normalizer_fn = None\n",
    "        if use_normalization:\n",
    "            column_params = normalization_parameters[column_name]\n",
    "            mean = column_params['mean']\n",
    "            std = column_params['std']\n",
    "            normalizer_fn = _make_zscaler(mean, std)\n",
    "        normalized_feature_columns.append(_numeric_column_normalized(column_name,\n",
    "                                                                     normalizer_fn))\n",
    "    return normalized_feature_columns"
   ]
  },
  {
   "cell_type": "code",
   "execution_count": 195,
   "metadata": {},
   "outputs": [],
   "source": [
    "\n",
    "feature_columns = create_feature_cols(features=feas, use_normalization=True)\n",
    "age_buckets = feature_column.bucketized_column(age, boundaries=[18, 25, 30, 35, 40, 45, 50, 55, 60, 65])\n",
    "feature_columns.append(age_buckets)\n",
    "\n",
    "thal = feature_column.categorical_column_with_vocabulary_list(\n",
    "      'thal', ['fixed', 'normal', 'reversible'])\n",
    "thal_one_hot = feature_column.indicator_column(thal)\n",
    "feature_columns.append(thal_one_hot)\n",
    "\n",
    "thal_embedding = feature_column.embedding_column(thal, dimension=8)\n",
    "feature_columns.append(thal_embedding)\n",
    "\n",
    "cross_feature = feature_column.crossed_column([age_buckets, thal], hash_bucket_size=1000)\n",
    "cross_feature = feature_column.indicator_column(cross_feature)\n",
    "feature_columns.append(cross_feature)"
   ]
  },
  {
   "cell_type": "code",
   "execution_count": 196,
   "metadata": {},
   "outputs": [],
   "source": [
    "feature_layer = tf.keras.layers.DenseFeatures(feature_columns)\n",
    "\n",
    "batch_size = 32\n",
    "train_ds = df_to_dataset(train, batch_size=batch_size)\n",
    "val_ds = df_to_dataset(val, shuffle=False, batch_size=batch_size)\n",
    "test_ds = df_to_dataset(test, shuffle=False, batch_size=batch_size)"
   ]
  },
  {
   "cell_type": "code",
   "execution_count": 197,
   "metadata": {},
   "outputs": [
    {
     "name": "stdout",
     "output_type": "stream",
     "text": [
      "Epoch 1/100\n",
      "7/7 [==============================] - 0s 38ms/step - loss: nan - accuracy: 0.5492 - val_loss: nan - val_accuracy: 0.0000e+00\n",
      "Epoch 2/100\n",
      "7/7 [==============================] - 0s 29ms/step - loss: nan - accuracy: 0.5492 - val_loss: nan - val_accuracy: 0.5102\n",
      "Epoch 3/100\n",
      "7/7 [==============================] - 0s 29ms/step - loss: nan - accuracy: 0.5492 - val_loss: nan - val_accuracy: 0.5102\n",
      "Epoch 4/100\n",
      "7/7 [==============================] - 0s 31ms/step - loss: nan - accuracy: 0.5492 - val_loss: nan - val_accuracy: 0.5102\n",
      "Epoch 5/100\n",
      "7/7 [==============================] - 0s 34ms/step - loss: nan - accuracy: 0.5492 - val_loss: nan - val_accuracy: 0.5102\n",
      "Epoch 6/100\n",
      "7/7 [==============================] - 0s 42ms/step - loss: nan - accuracy: 0.5492 - val_loss: nan - val_accuracy: 0.5102\n",
      "Epoch 7/100\n",
      "7/7 [==============================] - 0s 32ms/step - loss: nan - accuracy: 0.5492 - val_loss: nan - val_accuracy: 0.5102\n",
      "Epoch 8/100\n",
      "7/7 [==============================] - 0s 31ms/step - loss: nan - accuracy: 0.5492 - val_loss: nan - val_accuracy: 0.5102\n",
      "Epoch 9/100\n",
      "7/7 [==============================] - 0s 36ms/step - loss: nan - accuracy: 0.5492 - val_loss: nan - val_accuracy: 0.5102\n",
      "Epoch 10/100\n",
      "7/7 [==============================] - 0s 39ms/step - loss: nan - accuracy: 0.5492 - val_loss: nan - val_accuracy: 0.5102\n",
      "Epoch 11/100\n",
      "7/7 [==============================] - 0s 32ms/step - loss: nan - accuracy: 0.5492 - val_loss: nan - val_accuracy: 0.5102\n",
      "Epoch 12/100\n",
      "7/7 [==============================] - 0s 33ms/step - loss: nan - accuracy: 0.5492 - val_loss: nan - val_accuracy: 0.5102\n",
      "Epoch 13/100\n",
      "7/7 [==============================] - 0s 32ms/step - loss: nan - accuracy: 0.5492 - val_loss: nan - val_accuracy: 0.5102\n",
      "Epoch 14/100\n",
      "7/7 [==============================] - 0s 36ms/step - loss: nan - accuracy: 0.5492 - val_loss: nan - val_accuracy: 0.5102\n",
      "Epoch 15/100\n",
      "7/7 [==============================] - 0s 40ms/step - loss: nan - accuracy: 0.5492 - val_loss: nan - val_accuracy: 0.5102\n",
      "Epoch 16/100\n",
      "7/7 [==============================] - 0s 33ms/step - loss: nan - accuracy: 0.5492 - val_loss: nan - val_accuracy: 0.5102\n",
      "Epoch 17/100\n",
      "7/7 [==============================] - 0s 33ms/step - loss: nan - accuracy: 0.5492 - val_loss: nan - val_accuracy: 0.5102\n",
      "Epoch 18/100\n",
      "7/7 [==============================] - 0s 35ms/step - loss: nan - accuracy: 0.5492 - val_loss: nan - val_accuracy: 0.5102\n",
      "Epoch 19/100\n",
      "7/7 [==============================] - 0s 36ms/step - loss: nan - accuracy: 0.5492 - val_loss: nan - val_accuracy: 0.5102\n",
      "Epoch 20/100\n",
      "7/7 [==============================] - 0s 37ms/step - loss: nan - accuracy: 0.5492 - val_loss: nan - val_accuracy: 0.5102\n",
      "Epoch 21/100\n",
      "7/7 [==============================] - 0s 36ms/step - loss: nan - accuracy: 0.5492 - val_loss: nan - val_accuracy: 0.5102\n",
      "Epoch 22/100\n",
      "7/7 [==============================] - 0s 37ms/step - loss: nan - accuracy: 0.5492 - val_loss: nan - val_accuracy: 0.5102\n",
      "Epoch 23/100\n",
      "7/7 [==============================] - 0s 38ms/step - loss: nan - accuracy: 0.5492 - val_loss: nan - val_accuracy: 0.5102\n",
      "Epoch 24/100\n",
      "7/7 [==============================] - 0s 38ms/step - loss: nan - accuracy: 0.5492 - val_loss: nan - val_accuracy: 0.5102\n",
      "Epoch 25/100\n",
      "7/7 [==============================] - 0s 39ms/step - loss: nan - accuracy: 0.5492 - val_loss: nan - val_accuracy: 0.5102\n",
      "Epoch 26/100\n",
      "7/7 [==============================] - 0s 41ms/step - loss: nan - accuracy: 0.5492 - val_loss: nan - val_accuracy: 0.5102\n",
      "Epoch 27/100\n",
      "7/7 [==============================] - 0s 47ms/step - loss: nan - accuracy: 0.5492 - val_loss: nan - val_accuracy: 0.5102\n",
      "Epoch 28/100\n",
      "7/7 [==============================] - 0s 41ms/step - loss: nan - accuracy: 0.5492 - val_loss: nan - val_accuracy: 0.5102\n",
      "Epoch 29/100\n",
      "7/7 [==============================] - 0s 38ms/step - loss: nan - accuracy: 0.5492 - val_loss: nan - val_accuracy: 0.5102\n",
      "Epoch 30/100\n",
      "7/7 [==============================] - 0s 39ms/step - loss: nan - accuracy: 0.5492 - val_loss: nan - val_accuracy: 0.5102\n",
      "Epoch 31/100\n",
      "7/7 [==============================] - 0s 43ms/step - loss: nan - accuracy: 0.5492 - val_loss: nan - val_accuracy: 0.5102\n",
      "Epoch 32/100\n",
      "7/7 [==============================] - 0s 43ms/step - loss: nan - accuracy: 0.5492 - val_loss: nan - val_accuracy: 0.5102\n",
      "Epoch 33/100\n",
      "7/7 [==============================] - 0s 44ms/step - loss: nan - accuracy: 0.5492 - val_loss: nan - val_accuracy: 0.5102\n",
      "Epoch 34/100\n",
      "7/7 [==============================] - 0s 40ms/step - loss: nan - accuracy: 0.5492 - val_loss: nan - val_accuracy: 0.5102\n",
      "Epoch 35/100\n",
      "7/7 [==============================] - 0s 41ms/step - loss: nan - accuracy: 0.5492 - val_loss: nan - val_accuracy: 0.5102\n",
      "Epoch 36/100\n",
      "7/7 [==============================] - 0s 41ms/step - loss: nan - accuracy: 0.5492 - val_loss: nan - val_accuracy: 0.5102\n",
      "Epoch 37/100\n",
      "7/7 [==============================] - 0s 44ms/step - loss: nan - accuracy: 0.5492 - val_loss: nan - val_accuracy: 0.5102\n",
      "Epoch 38/100\n",
      "7/7 [==============================] - 0s 44ms/step - loss: nan - accuracy: 0.5492 - val_loss: nan - val_accuracy: 0.5102\n",
      "Epoch 39/100\n",
      "7/7 [==============================] - 0s 46ms/step - loss: nan - accuracy: 0.5492 - val_loss: nan - val_accuracy: 0.5102\n",
      "Epoch 40/100\n",
      "7/7 [==============================] - 0s 44ms/step - loss: nan - accuracy: 0.5492 - val_loss: nan - val_accuracy: 0.5102\n",
      "Epoch 41/100\n",
      "7/7 [==============================] - 0s 45ms/step - loss: nan - accuracy: 0.5492 - val_loss: nan - val_accuracy: 0.5102\n",
      "Epoch 42/100\n",
      "7/7 [==============================] - 0s 47ms/step - loss: nan - accuracy: 0.5492 - val_loss: nan - val_accuracy: 0.5102\n",
      "Epoch 43/100\n",
      "7/7 [==============================] - 0s 42ms/step - loss: nan - accuracy: 0.5492 - val_loss: nan - val_accuracy: 0.5102\n",
      "Epoch 44/100\n",
      "7/7 [==============================] - 0s 43ms/step - loss: nan - accuracy: 0.5492 - val_loss: nan - val_accuracy: 0.5102\n",
      "Epoch 45/100\n",
      "7/7 [==============================] - 0s 48ms/step - loss: nan - accuracy: 0.5492 - val_loss: nan - val_accuracy: 0.5102\n",
      "Epoch 46/100\n",
      "7/7 [==============================] - 0s 43ms/step - loss: nan - accuracy: 0.5492 - val_loss: nan - val_accuracy: 0.5102\n",
      "Epoch 47/100\n",
      "7/7 [==============================] - 0s 43ms/step - loss: nan - accuracy: 0.5492 - val_loss: nan - val_accuracy: 0.5102\n",
      "Epoch 48/100\n",
      "7/7 [==============================] - 0s 45ms/step - loss: nan - accuracy: 0.5492 - val_loss: nan - val_accuracy: 0.5102\n",
      "Epoch 49/100\n",
      "7/7 [==============================] - 0s 46ms/step - loss: nan - accuracy: 0.5492 - val_loss: nan - val_accuracy: 0.5102\n",
      "Epoch 50/100\n",
      "7/7 [==============================] - 0s 52ms/step - loss: nan - accuracy: 0.5492 - val_loss: nan - val_accuracy: 0.5102\n",
      "Epoch 51/100\n",
      "7/7 [==============================] - 0s 46ms/step - loss: nan - accuracy: 0.5492 - val_loss: nan - val_accuracy: 0.5102\n",
      "Epoch 52/100\n",
      "7/7 [==============================] - 0s 45ms/step - loss: nan - accuracy: 0.5492 - val_loss: nan - val_accuracy: 0.5102\n",
      "Epoch 53/100\n",
      "7/7 [==============================] - 0s 44ms/step - loss: nan - accuracy: 0.5492 - val_loss: nan - val_accuracy: 0.5102\n",
      "Epoch 54/100\n",
      "7/7 [==============================] - 0s 45ms/step - loss: nan - accuracy: 0.5492 - val_loss: nan - val_accuracy: 0.5102\n",
      "Epoch 55/100\n",
      "7/7 [==============================] - 0s 46ms/step - loss: nan - accuracy: 0.5492 - val_loss: nan - val_accuracy: 0.5102\n",
      "Epoch 56/100\n",
      "7/7 [==============================] - 0s 45ms/step - loss: nan - accuracy: 0.5492 - val_loss: nan - val_accuracy: 0.5102\n",
      "Epoch 57/100\n",
      "7/7 [==============================] - 0s 47ms/step - loss: nan - accuracy: 0.5492 - val_loss: nan - val_accuracy: 0.5102\n",
      "Epoch 58/100\n",
      "7/7 [==============================] - 0s 49ms/step - loss: nan - accuracy: 0.5492 - val_loss: nan - val_accuracy: 0.5102\n",
      "Epoch 59/100\n",
      "7/7 [==============================] - 0s 49ms/step - loss: nan - accuracy: 0.5492 - val_loss: nan - val_accuracy: 0.5102\n",
      "Epoch 60/100\n",
      "7/7 [==============================] - 0s 50ms/step - loss: nan - accuracy: 0.5492 - val_loss: nan - val_accuracy: 0.5102\n",
      "Epoch 61/100\n",
      "7/7 [==============================] - 0s 57ms/step - loss: nan - accuracy: 0.5492 - val_loss: nan - val_accuracy: 0.5102\n",
      "Epoch 62/100\n",
      "7/7 [==============================] - 0s 53ms/step - loss: nan - accuracy: 0.5492 - val_loss: nan - val_accuracy: 0.5102\n",
      "Epoch 63/100\n",
      "7/7 [==============================] - 0s 47ms/step - loss: nan - accuracy: 0.5492 - val_loss: nan - val_accuracy: 0.5102\n",
      "Epoch 64/100\n",
      "7/7 [==============================] - 0s 48ms/step - loss: nan - accuracy: 0.5492 - val_loss: nan - val_accuracy: 0.5102\n",
      "Epoch 65/100\n",
      "7/7 [==============================] - 0s 48ms/step - loss: nan - accuracy: 0.5492 - val_loss: nan - val_accuracy: 0.5102\n",
      "Epoch 66/100\n",
      "7/7 [==============================] - 0s 50ms/step - loss: nan - accuracy: 0.5492 - val_loss: nan - val_accuracy: 0.5102\n",
      "Epoch 67/100\n",
      "7/7 [==============================] - 0s 51ms/step - loss: nan - accuracy: 0.5492 - val_loss: nan - val_accuracy: 0.5102\n",
      "Epoch 68/100\n",
      "7/7 [==============================] - 0s 47ms/step - loss: nan - accuracy: 0.5492 - val_loss: nan - val_accuracy: 0.5102\n",
      "Epoch 69/100\n",
      "7/7 [==============================] - 0s 50ms/step - loss: nan - accuracy: 0.5492 - val_loss: nan - val_accuracy: 0.5102\n",
      "Epoch 70/100\n",
      "7/7 [==============================] - 0s 52ms/step - loss: nan - accuracy: 0.5492 - val_loss: nan - val_accuracy: 0.5102\n",
      "Epoch 71/100\n",
      "7/7 [==============================] - 0s 49ms/step - loss: nan - accuracy: 0.5492 - val_loss: nan - val_accuracy: 0.5102\n",
      "Epoch 72/100\n",
      "7/7 [==============================] - 0s 54ms/step - loss: nan - accuracy: 0.5492 - val_loss: nan - val_accuracy: 0.5102\n",
      "Epoch 73/100\n",
      "7/7 [==============================] - 0s 52ms/step - loss: nan - accuracy: 0.5492 - val_loss: nan - val_accuracy: 0.5102\n",
      "Epoch 74/100\n",
      "7/7 [==============================] - 0s 53ms/step - loss: nan - accuracy: 0.5492 - val_loss: nan - val_accuracy: 0.5102\n",
      "Epoch 75/100\n",
      "7/7 [==============================] - 0s 60ms/step - loss: nan - accuracy: 0.5492 - val_loss: nan - val_accuracy: 0.5102\n",
      "Epoch 76/100\n",
      "7/7 [==============================] - 0s 50ms/step - loss: nan - accuracy: 0.5492 - val_loss: nan - val_accuracy: 0.5102\n",
      "Epoch 77/100\n",
      "7/7 [==============================] - 0s 61ms/step - loss: nan - accuracy: 0.5492 - val_loss: nan - val_accuracy: 0.5102\n",
      "Epoch 78/100\n",
      "7/7 [==============================] - 0s 51ms/step - loss: nan - accuracy: 0.5492 - val_loss: nan - val_accuracy: 0.5102\n",
      "Epoch 79/100\n",
      "7/7 [==============================] - 0s 60ms/step - loss: nan - accuracy: 0.5492 - val_loss: nan - val_accuracy: 0.5102\n",
      "Epoch 80/100\n",
      "7/7 [==============================] - 0s 51ms/step - loss: nan - accuracy: 0.5492 - val_loss: nan - val_accuracy: 0.5102\n",
      "Epoch 81/100\n",
      "7/7 [==============================] - 0s 62ms/step - loss: nan - accuracy: 0.5492 - val_loss: nan - val_accuracy: 0.5102\n",
      "Epoch 82/100\n",
      "7/7 [==============================] - 0s 53ms/step - loss: nan - accuracy: 0.5492 - val_loss: nan - val_accuracy: 0.5102\n",
      "Epoch 83/100\n",
      "7/7 [==============================] - 0s 68ms/step - loss: nan - accuracy: 0.5492 - val_loss: nan - val_accuracy: 0.5102\n",
      "Epoch 84/100\n",
      "7/7 [==============================] - 0s 59ms/step - loss: nan - accuracy: 0.5492 - val_loss: nan - val_accuracy: 0.5102\n",
      "Epoch 85/100\n",
      "7/7 [==============================] - 0s 58ms/step - loss: nan - accuracy: 0.5492 - val_loss: nan - val_accuracy: 0.5102\n",
      "Epoch 86/100\n",
      "7/7 [==============================] - 0s 53ms/step - loss: nan - accuracy: 0.5492 - val_loss: nan - val_accuracy: 0.5102\n",
      "Epoch 87/100\n",
      "7/7 [==============================] - 0s 52ms/step - loss: nan - accuracy: 0.5492 - val_loss: nan - val_accuracy: 0.5102\n",
      "Epoch 88/100\n",
      "7/7 [==============================] - 0s 63ms/step - loss: nan - accuracy: 0.5492 - val_loss: nan - val_accuracy: 0.5102\n",
      "Epoch 89/100\n",
      "7/7 [==============================] - 0s 54ms/step - loss: nan - accuracy: 0.5492 - val_loss: nan - val_accuracy: 0.5102\n",
      "Epoch 90/100\n",
      "7/7 [==============================] - 0s 62ms/step - loss: nan - accuracy: 0.5492 - val_loss: nan - val_accuracy: 0.5102\n",
      "Epoch 91/100\n",
      "7/7 [==============================] - 0s 55ms/step - loss: nan - accuracy: 0.5492 - val_loss: nan - val_accuracy: 0.5102\n",
      "Epoch 92/100\n",
      "7/7 [==============================] - 0s 62ms/step - loss: nan - accuracy: 0.5492 - val_loss: nan - val_accuracy: 0.5102\n",
      "Epoch 93/100\n",
      "7/7 [==============================] - 0s 57ms/step - loss: nan - accuracy: 0.5492 - val_loss: nan - val_accuracy: 0.5102\n",
      "Epoch 94/100\n",
      "7/7 [==============================] - 0s 56ms/step - loss: nan - accuracy: 0.5492 - val_loss: nan - val_accuracy: 0.5102\n",
      "Epoch 95/100\n",
      "7/7 [==============================] - 0s 57ms/step - loss: nan - accuracy: 0.5492 - val_loss: nan - val_accuracy: 0.5102\n",
      "Epoch 96/100\n",
      "7/7 [==============================] - 0s 57ms/step - loss: nan - accuracy: 0.5492 - val_loss: nan - val_accuracy: 0.5102\n",
      "Epoch 97/100\n",
      "7/7 [==============================] - 0s 58ms/step - loss: nan - accuracy: 0.5492 - val_loss: nan - val_accuracy: 0.5102\n",
      "Epoch 98/100\n",
      "7/7 [==============================] - 0s 57ms/step - loss: nan - accuracy: 0.5492 - val_loss: nan - val_accuracy: 0.5102\n",
      "Epoch 99/100\n",
      "7/7 [==============================] - 0s 58ms/step - loss: nan - accuracy: 0.5492 - val_loss: nan - val_accuracy: 0.5102\n",
      "Epoch 100/100\n",
      "7/7 [==============================] - 0s 59ms/step - loss: nan - accuracy: 0.5492 - val_loss: nan - val_accuracy: 0.5102\n"
     ]
    },
    {
     "data": {
      "text/plain": [
       "<tensorflow.python.keras.callbacks.History at 0x14db9ed10>"
      ]
     },
     "execution_count": 197,
     "metadata": {},
     "output_type": "execute_result"
    }
   ],
   "source": [
    "model = tf.keras.Sequential([\n",
    "    feature_layer,\n",
    "    layers.Dense(128, activation='relu'),\n",
    "    layers.Dense(128, activation='relu'),\n",
    "    layers.Dense(1, activation='sigmoid')\n",
    "])\n",
    "\n",
    "model.compile(optimizer='adam', loss='binary_crossentropy',\n",
    "    metrics=['accuracy'],\n",
    "    run_eagerly=True    \n",
    ")\n",
    "\n",
    "model.fit(train_ds, validation_data=val_ds, epochs=100)"
   ]
  },
  {
   "cell_type": "code",
   "execution_count": 198,
   "metadata": {},
   "outputs": [
    {
     "name": "stdout",
     "output_type": "stream",
     "text": [
      "2/2 [==============================] - 0s 35ms/step - loss: nan - accuracy: 0.5410\n",
      "loss: nan accuracy: 0.5409836173057556\n"
     ]
    }
   ],
   "source": [
    "loss , accuracy = model.evaluate(test_ds)\n",
    "print(\"loss: {} accuracy: {}\".format(loss, accuracy))"
   ]
  }
 ],
 "metadata": {
  "interpreter": {
   "hash": "44dbc9458e72fb1b75c5669005df8ff52ecf3e2cc18cfb55168a9f258cb13f20"
  },
  "kernelspec": {
   "display_name": "Python 3.7.4 64-bit ('python3': virtualenv)",
   "language": "python",
   "name": "python3"
  },
  "language_info": {
   "codemirror_mode": {
    "name": "ipython",
    "version": 3
   },
   "file_extension": ".py",
   "mimetype": "text/x-python",
   "name": "python",
   "nbconvert_exporter": "python",
   "pygments_lexer": "ipython3",
   "version": "3.7.4"
  },
  "orig_nbformat": 4
 },
 "nbformat": 4,
 "nbformat_minor": 2
}
