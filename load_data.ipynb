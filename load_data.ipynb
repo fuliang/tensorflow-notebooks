{
 "cells": [
  {
   "cell_type": "code",
   "execution_count": 22,
   "metadata": {},
   "outputs": [],
   "source": [
    "import functools\n",
    "\n",
    "import numpy as np\n",
    "import tensorflow as tf"
   ]
  },
  {
   "cell_type": "code",
   "execution_count": 23,
   "metadata": {},
   "outputs": [],
   "source": [
    "TRAIN_DATA_URL = \"https://storage.googleapis.com/tf-datasets/titanic/train.csv\"\n",
    "TEST_DATA_URL = \"https://storage.googleapis.com/tf-datasets/titanic/eval.csv\"\n",
    "train_file_path = tf.keras.utils.get_file(\"train.csv\", TRAIN_DATA_URL)\n",
    "test_file_path = tf.keras.utils.get_file(\"test.csv\", TEST_DATA_URL)"
   ]
  },
  {
   "cell_type": "code",
   "execution_count": 24,
   "metadata": {},
   "outputs": [],
   "source": [
    "np.set_printoptions(precision=3, suppress=True)"
   ]
  },
  {
   "cell_type": "code",
   "execution_count": 25,
   "metadata": {},
   "outputs": [],
   "source": [
    "CSV_COLUMNS = ['survived', 'sex', 'age', 'n_siblings_spouses', 'parch', 'fare', 'class', 'deck', 'embark_town', 'alone']\n",
    "LABEL_COLUMN = 'survived'\n",
    "LABELS = [0, 1]"
   ]
  },
  {
   "cell_type": "code",
   "execution_count": 26,
   "metadata": {},
   "outputs": [],
   "source": [
    "def get_dataset(file_path):\n",
    "    dataset = tf.data.experimental.make_csv_dataset(\n",
    "        file_path,\n",
    "        batch_size=12,\n",
    "        label_name=LABEL_COLUMN,\n",
    "        na_value=\"?\",\n",
    "        num_epochs=1,\n",
    "        ignore_errors=True\n",
    "    )\n",
    "    return dataset\n",
    "\n",
    "raw_train_data = get_dataset(train_file_path)\n",
    "raw_test_data = get_dataset(test_file_path)"
   ]
  },
  {
   "cell_type": "code",
   "execution_count": 27,
   "metadata": {},
   "outputs": [
    {
     "name": "stdout",
     "output_type": "stream",
     "text": [
      "Example: \n",
      " OrderedDict([('sex', <tf.Tensor: shape=(12,), dtype=string, numpy=\n",
      "array([b'male', b'male', b'female', b'female', b'female', b'female',\n",
      "       b'female', b'male', b'female', b'female', b'male', b'female'],\n",
      "      dtype=object)>), ('age', <tf.Tensor: shape=(12,), dtype=float32, numpy=\n",
      "array([32., 30., 35., 45.,  4., 27., 25., 40., 23., 24., 21., 18.],\n",
      "      dtype=float32)>), ('n_siblings_spouses', <tf.Tensor: shape=(12,), dtype=int32, numpy=array([0, 0, 1, 0, 1, 0, 1, 0, 3, 0, 0, 0], dtype=int32)>), ('parch', <tf.Tensor: shape=(12,), dtype=int32, numpy=array([0, 0, 0, 0, 1, 0, 1, 0, 2, 0, 0, 1], dtype=int32)>), ('fare', <tf.Tensor: shape=(12,), dtype=float32, numpy=\n",
      "array([  8.05 ,  13.   ,  83.475,   7.75 ,  23.   ,   7.925,  30.   ,\n",
      "         0.   , 263.   ,  13.   ,   7.775,   9.35 ], dtype=float32)>), ('class', <tf.Tensor: shape=(12,), dtype=string, numpy=\n",
      "array([b'Third', b'Second', b'First', b'Third', b'Second', b'Third',\n",
      "       b'Second', b'First', b'First', b'Second', b'Third', b'Third'],\n",
      "      dtype=object)>), ('deck', <tf.Tensor: shape=(12,), dtype=string, numpy=\n",
      "array([b'E', b'unknown', b'C', b'unknown', b'unknown', b'unknown',\n",
      "       b'unknown', b'B', b'C', b'F', b'unknown', b'unknown'], dtype=object)>), ('embark_town', <tf.Tensor: shape=(12,), dtype=string, numpy=\n",
      "array([b'Southampton', b'Southampton', b'Southampton', b'Southampton',\n",
      "       b'Southampton', b'Southampton', b'Southampton', b'Southampton',\n",
      "       b'Southampton', b'Southampton', b'Southampton', b'Southampton'],\n",
      "      dtype=object)>), ('alone', <tf.Tensor: shape=(12,), dtype=string, numpy=\n",
      "array([b'y', b'y', b'n', b'y', b'n', b'y', b'n', b'y', b'n', b'y', b'y',\n",
      "       b'n'], dtype=object)>)]) \n",
      "\n",
      "LABELS:\n",
      " tf.Tensor([1 0 1 0 1 1 1 0 1 1 0 1], shape=(12,), dtype=int32)\n"
     ]
    }
   ],
   "source": [
    "examples, lables = next(iter(raw_train_data))\n",
    "print(\"Example: \\n\", examples, \"\\n\")\n",
    "print(\"LABELS:\\n\", lables)"
   ]
  },
  {
   "cell_type": "code",
   "execution_count": 28,
   "metadata": {},
   "outputs": [],
   "source": [
    "CATEGORIES = {\n",
    "    'sex': ['male', 'female'],\n",
    "    'class': ['First', 'Second', 'Third'],\n",
    "    'deck': ['A', 'B', 'C', 'D', 'E', 'F', 'G', 'H', 'I', 'J'],\n",
    "    'embark_town': ['Cherbourg', 'Southhampton', 'Queenstown'],\n",
    "    'alone': ['y', 'n']\n",
    "}"
   ]
  },
  {
   "cell_type": "code",
   "execution_count": 29,
   "metadata": {},
   "outputs": [],
   "source": [
    "categorical_columns = []\n",
    "for feature, vocab in CATEGORIES.items():\n",
    "    cat_col = tf.feature_column.categorical_column_with_vocabulary_list(\n",
    "        key=feature, vocabulary_list=vocab\n",
    "    )\n",
    "    categorical_columns.append(tf.feature_column.indicator_column(cat_col))"
   ]
  },
  {
   "cell_type": "code",
   "execution_count": 30,
   "metadata": {},
   "outputs": [
    {
     "data": {
      "text/plain": [
       "[IndicatorColumn(categorical_column=VocabularyListCategoricalColumn(key='sex', vocabulary_list=('male', 'female'), dtype=tf.string, default_value=-1, num_oov_buckets=0)),\n",
       " IndicatorColumn(categorical_column=VocabularyListCategoricalColumn(key='class', vocabulary_list=('First', 'Second', 'Third'), dtype=tf.string, default_value=-1, num_oov_buckets=0)),\n",
       " IndicatorColumn(categorical_column=VocabularyListCategoricalColumn(key='deck', vocabulary_list=('A', 'B', 'C', 'D', 'E', 'F', 'G', 'H', 'I', 'J'), dtype=tf.string, default_value=-1, num_oov_buckets=0)),\n",
       " IndicatorColumn(categorical_column=VocabularyListCategoricalColumn(key='embark_town', vocabulary_list=('Cherbourg', 'Southhampton', 'Queenstown'), dtype=tf.string, default_value=-1, num_oov_buckets=0)),\n",
       " IndicatorColumn(categorical_column=VocabularyListCategoricalColumn(key='alone', vocabulary_list=('y', 'n'), dtype=tf.string, default_value=-1, num_oov_buckets=0))]"
      ]
     },
     "execution_count": 30,
     "metadata": {},
     "output_type": "execute_result"
    }
   ],
   "source": [
    "categorical_columns"
   ]
  },
  {
   "cell_type": "code",
   "execution_count": 31,
   "metadata": {},
   "outputs": [],
   "source": [
    "def process_continuous_data(mean, data):\n",
    "    data = tf.cast(data, tf.float32) * 1 / (2 * mean)\n",
    "    return tf.reshape(data, [-1, 1])"
   ]
  },
  {
   "cell_type": "code",
   "execution_count": 32,
   "metadata": {},
   "outputs": [],
   "source": [
    "MEANS = {\n",
    "    'age' : 29.631308,\n",
    "    'n_siblings_spouses' : 0.545455,\n",
    "    'parch' : 0.379585,\n",
    "    'fare' : 34.385399\n",
    "}\n",
    "\n",
    "numerical_columns = []\n",
    "for feature in MEANS.keys():\n",
    "    num_col = tf.feature_column.numeric_column(feature, normalizer_fn=functools.partial(process_continuous_data, MEANS[feature]))\n",
    "    numerical_columns.append(num_col)"
   ]
  },
  {
   "cell_type": "code",
   "execution_count": 33,
   "metadata": {},
   "outputs": [
    {
     "data": {
      "text/plain": [
       "[NumericColumn(key='age', shape=(1,), default_value=None, dtype=tf.float32, normalizer_fn=functools.partial(<function process_continuous_data at 0x145c9e3b0>, 29.631308)),\n",
       " NumericColumn(key='n_siblings_spouses', shape=(1,), default_value=None, dtype=tf.float32, normalizer_fn=functools.partial(<function process_continuous_data at 0x145c9e3b0>, 0.545455)),\n",
       " NumericColumn(key='parch', shape=(1,), default_value=None, dtype=tf.float32, normalizer_fn=functools.partial(<function process_continuous_data at 0x145c9e3b0>, 0.379585)),\n",
       " NumericColumn(key='fare', shape=(1,), default_value=None, dtype=tf.float32, normalizer_fn=functools.partial(<function process_continuous_data at 0x145c9e3b0>, 34.385399))]"
      ]
     },
     "execution_count": 33,
     "metadata": {},
     "output_type": "execute_result"
    }
   ],
   "source": [
    "numerical_columns"
   ]
  },
  {
   "cell_type": "code",
   "execution_count": 34,
   "metadata": {},
   "outputs": [],
   "source": [
    "preprocessing_layer = tf.keras.layers.DenseFeatures(categorical_columns + numerical_columns)"
   ]
  },
  {
   "cell_type": "code",
   "execution_count": 35,
   "metadata": {},
   "outputs": [],
   "source": [
    "model = tf.keras.Sequential([\n",
    "    preprocessing_layer,\n",
    "    tf.keras.layers.Dense(128, activation='relu'),\n",
    "    tf.keras.layers.Dense(128, activation='relu'),\n",
    "    tf.keras.layers.Dense(1, activation='sigmoid'),\n",
    "])\n",
    "\n",
    "model.compile(\n",
    "    loss='binary_crossentropy',\n",
    "    optimizer='adam',\n",
    "    metrics=['accuracy']\n",
    ")"
   ]
  },
  {
   "cell_type": "code",
   "execution_count": 36,
   "metadata": {},
   "outputs": [
    {
     "name": "stdout",
     "output_type": "stream",
     "text": [
      "Epoch 1/20\n",
      "53/53 [==============================] - 0s 1ms/step - loss: 0.5219 - accuracy: 0.7560\n",
      "Epoch 2/20\n",
      "53/53 [==============================] - 0s 2ms/step - loss: 0.4354 - accuracy: 0.8134\n",
      "Epoch 3/20\n",
      "53/53 [==============================] - 0s 2ms/step - loss: 0.4197 - accuracy: 0.8086\n",
      "Epoch 4/20\n",
      "53/53 [==============================] - 0s 1ms/step - loss: 0.4088 - accuracy: 0.8182\n",
      "Epoch 5/20\n",
      "53/53 [==============================] - 0s 1ms/step - loss: 0.4036 - accuracy: 0.8262\n",
      "Epoch 6/20\n",
      "53/53 [==============================] - 0s 1ms/step - loss: 0.3964 - accuracy: 0.8262\n",
      "Epoch 7/20\n",
      "53/53 [==============================] - 0s 1ms/step - loss: 0.3911 - accuracy: 0.8246\n",
      "Epoch 8/20\n",
      "53/53 [==============================] - 0s 1ms/step - loss: 0.3862 - accuracy: 0.8230\n",
      "Epoch 9/20\n",
      "53/53 [==============================] - 0s 1ms/step - loss: 0.3778 - accuracy: 0.8405\n",
      "Epoch 10/20\n",
      "53/53 [==============================] - 0s 1ms/step - loss: 0.3733 - accuracy: 0.8293\n",
      "Epoch 11/20\n",
      "53/53 [==============================] - 0s 1ms/step - loss: 0.3652 - accuracy: 0.8517\n",
      "Epoch 12/20\n",
      "53/53 [==============================] - 0s 1ms/step - loss: 0.3652 - accuracy: 0.8405\n",
      "Epoch 13/20\n",
      "53/53 [==============================] - 0s 2ms/step - loss: 0.3742 - accuracy: 0.8405\n",
      "Epoch 14/20\n",
      "53/53 [==============================] - 0s 2ms/step - loss: 0.3656 - accuracy: 0.8517\n",
      "Epoch 15/20\n",
      "53/53 [==============================] - 0s 1ms/step - loss: 0.3577 - accuracy: 0.8485\n",
      "Epoch 16/20\n",
      "53/53 [==============================] - 0s 1ms/step - loss: 0.3582 - accuracy: 0.8389\n",
      "Epoch 17/20\n",
      "53/53 [==============================] - 0s 1ms/step - loss: 0.3537 - accuracy: 0.8469\n",
      "Epoch 18/20\n",
      "53/53 [==============================] - 0s 1ms/step - loss: 0.3554 - accuracy: 0.8437\n",
      "Epoch 19/20\n",
      "53/53 [==============================] - 0s 1ms/step - loss: 0.3420 - accuracy: 0.8517\n",
      "Epoch 20/20\n",
      "53/53 [==============================] - 0s 1ms/step - loss: 0.3415 - accuracy: 0.8565\n"
     ]
    },
    {
     "data": {
      "text/plain": [
       "<tensorflow.python.keras.callbacks.History at 0x145cb0350>"
      ]
     },
     "execution_count": 36,
     "metadata": {},
     "output_type": "execute_result"
    }
   ],
   "source": [
    "train_data = raw_train_data.shuffle(500)\n",
    "test_data = raw_test_data\n",
    "\n",
    "model.fit(train_data, epochs=20)"
   ]
  },
  {
   "cell_type": "code",
   "execution_count": 37,
   "metadata": {},
   "outputs": [
    {
     "name": "stdout",
     "output_type": "stream",
     "text": [
      "22/22 [==============================] - 0s 2ms/step - loss: 0.4763 - accuracy: 0.7917\n"
     ]
    }
   ],
   "source": [
    "test_loss, test_accuracy = model.evaluate(test_data)"
   ]
  },
  {
   "cell_type": "code",
   "execution_count": 38,
   "metadata": {},
   "outputs": [
    {
     "name": "stdout",
     "output_type": "stream",
     "text": [
      "Predicted surival: 1.87% | Actual outcome:  SURVIED\n",
      "Predicted surival: 10.53% | Actual outcome:  DIED\n",
      "Predicted surival: 38.92% | Actual outcome:  SURVIED\n",
      "Predicted surival: 92.27% | Actual outcome:  SURVIED\n",
      "Predicted surival: 98.46% | Actual outcome:  DIED\n",
      "Predicted surival: 72.83% | Actual outcome:  DIED\n",
      "Predicted surival: 35.00% | Actual outcome:  SURVIED\n",
      "Predicted surival: 91.27% | Actual outcome:  DIED\n",
      "Predicted surival: 8.04% | Actual outcome:  SURVIED\n",
      "Predicted surival: 37.38% | Actual outcome:  SURVIED\n"
     ]
    }
   ],
   "source": [
    "predictions = model.predict(test_data)\n",
    "\n",
    "for prediction, suvived in zip(predictions[:10], list(test_data)[0][1][:10]):\n",
    "    print(\"Predicted surival: {:.2%}\".format(prediction[0]),\n",
    "    \"| Actual outcome: \",\n",
    "    (\"SURVIED\" if bool(suvived) else \"DIED\")\n",
    "    )"
   ]
  }
 ],
 "metadata": {
  "interpreter": {
   "hash": "44dbc9458e72fb1b75c5669005df8ff52ecf3e2cc18cfb55168a9f258cb13f20"
  },
  "kernelspec": {
   "display_name": "Python 3.7.4 ('python3')",
   "language": "python",
   "name": "python3"
  },
  "language_info": {
   "codemirror_mode": {
    "name": "ipython",
    "version": 3
   },
   "file_extension": ".py",
   "mimetype": "text/x-python",
   "name": "python",
   "nbconvert_exporter": "python",
   "pygments_lexer": "ipython3",
   "version": "3.7.4"
  },
  "orig_nbformat": 4
 },
 "nbformat": 4,
 "nbformat_minor": 2
}
